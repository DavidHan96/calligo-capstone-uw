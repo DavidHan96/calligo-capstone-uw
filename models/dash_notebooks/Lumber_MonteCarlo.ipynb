{
 "cells": [
  {
   "cell_type": "code",
   "execution_count": 2,
   "id": "c04f7a12-d733-4995-ae3f-e88627ee4628",
   "metadata": {},
   "outputs": [],
   "source": [
    "import boto3\n",
    "import pandas as pd\n",
    "import io\n",
    "\n",
    "# AWS S3 Credentials\n",
    "aws_access_key_id = 'YOUR_KEY_ID'\n",
    "aws_secret_access_key = 'YOUR_ACCESS_KEY'\n",
    "endpoint_url = 'YOUR_ENDPOINT'\n",
    "bucket_name = 'fred'\n",
    "\n",
    "s3 = boto3.resource(\n",
    "    's3',\n",
    "    aws_access_key_id=aws_access_key_id,\n",
    "    aws_secret_access_key=aws_secret_access_key,\n",
    "    endpoint_url=endpoint_url\n",
    ")\n",
    "bucket = s3.Bucket(bucket_name)\n",
    "\n",
    "def s3_csv_to_df(key: str) -> pd.DataFrame:\n",
    "\n",
    "    body = bucket.Object(key).get()[\"Body\"].read()\n",
    "    return pd.read_csv(io.BytesIO(body))"
   ]
  },
  {
   "cell_type": "code",
   "execution_count": 3,
   "id": "7e1c75ad-2767-4005-b6a2-e7d48fbee1f5",
   "metadata": {},
   "outputs": [],
   "source": [
    "import pandas as pd\n",
    "from functools import reduce\n",
    "\n",
    "# Defined S3 keys and columns\n",
    "kpi_files = {\n",
    "    'CPIAUCSL.csv': 'cpi',\n",
    "    'GDP.csv': 'gdp',\n",
    "    'HOUST.csv': 'housing_starts',\n",
    "    'M2REAL.csv': 'm2_money_supply',\n",
    "    'MORTGAGE30US.csv': 'mortgage_rate',\n",
    "    'PERMIT.csv': 'building_permits',\n",
    "    'PPIACO.csv': 'ppi',\n",
    "    'T10Y2Y.csv': 'yield_curve',\n",
    "    'TLRESCONS.csv': 'construction_spending',\n",
    "    'UNRATE.csv': 'unemployment_rate',\n",
    "    'WPU0851.csv': 'lumber_price'\n",
    "}\n",
    "\n",
    "def load_and_merge_data():\n",
    "    dfs = []\n",
    "    for key, col_name in kpi_files.items():\n",
    "        try:\n",
    "            df = s3_csv_to_df(f\"observations/{key}\")   # add .csv\n",
    "        except Exception as e:\n",
    "            print(f\" {key} missing → {e}\")\n",
    "            continue\n",
    "\n",
    "        df.columns = df.columns.str.strip().str.lower()\n",
    "        date_col  = 'observation_date' if 'observation_date' in df.columns else 'date'\n",
    "        value_col = 'value' if 'value' in df.columns else next(c for c in df.columns if c != date_col)\n",
    "\n",
    "        df = (\n",
    "            df[[date_col, value_col]]\n",
    "              .rename(columns={date_col: 'date', value_col: col_name})\n",
    "        )\n",
    "        df['date'] = pd.to_datetime(df['date'])\n",
    "        df = df.set_index('date').resample('W').ffill().reset_index()\n",
    "        dfs.append(df)\n",
    "\n",
    "    if not dfs:\n",
    "        raise RuntimeError(\"No KPI files were loaded from S3 — nothing to merge.\")\n",
    "\n",
    "    merged_df = reduce(lambda l, r: pd.merge(l, r, on='date', how='inner'), dfs)\n",
    "    return merged_df.sort_values('date').reset_index(drop=True)\n",
    "\n"
   ]
  },
  {
   "cell_type": "code",
   "execution_count": 6,
   "id": "0690dee9-d0c2-4793-8c6a-44c78fe556ee",
   "metadata": {},
   "outputs": [
    {
     "name": "stdout",
     "output_type": "stream",
     "text": [
      "Probability of price increase: 35.61%\n",
      "Probability of price decrease: 64.39%\n"
     ]
    },
    {
     "data": {
      "image/png": "[encoded data removed]",
      "text/plain": [
       "<Figure size 800x600 with 1 Axes>"
      ]
     },
     "metadata": {},
     "output_type": "display_data"
    }
   ],
   "source": [
    "import numpy as np\n",
    "import matplotlib.pyplot as plt\n",
    "import cupy as cp\n",
    "\n",
    "df = load_and_merge_data()\n",
    "lumber_returns = df['lumber_price'].pct_change().dropna()\n",
    "\n",
    "np.random.seed(42)\n",
    "num_simulations = 100000000\n",
    "future_weeks = 4 # 1 = 7 Days \n",
    "final_prices = []\n",
    "\n",
    "returns_matrix = cp.random.choice(cp.asarray(lumber_returns), size=(num_simulations, future_weeks), replace=True)\n",
    "simulated_paths = cp.prod(1 + returns_matrix, axis=1)\n",
    "final_prices = cp.asnumpy(df['lumber_price'].iloc[-1] * simulated_paths)\n",
    "\n",
    "current_price = df['lumber_price'].iloc[-1]\n",
    "up_prob = np.mean(np.array(final_prices) > current_price)\n",
    "down_prob = 1 - up_prob\n",
    "\n",
    "print(f\"Probability of price increase: {up_prob:.2%}\")\n",
    "print(f\"Probability of price decrease: {down_prob:.2%}\")\n",
    "\n",
    "plt.figure(figsize=(8,6))\n",
    "plt.hist(final_prices, bins=50, color='skyblue', edgecolor='black')\n",
    "plt.axvline(current_price, color='red', linestyle='--', label='Current Price')\n",
    "plt.title(f\"Lumber Price Distribution After {future_weeks} Weeks\")\n",
    "plt.xlabel('Simulated Price')\n",
    "plt.ylabel('Frequency')\n",
    "plt.legend()\n",
    "plt.show()"
   ]
  },
  {
   "cell_type": "code",
   "execution_count": 7,
   "id": "af455054-f32e-4c53-91c2-5c95923455f7",
   "metadata": {},
   "outputs": [
    {
     "data": {
      "text/plain": [
       "1"
      ]
     },
     "execution_count": 7,
     "metadata": {},
     "output_type": "execute_result"
    }
   ],
   "source": [
    "import pandas as pd, pathlib, textwrap\n",
    "\n",
    "out_dir = pathlib.Path(\"data\"); out_dir.mkdir(exist_ok=True)\n",
    "\n",
    "pd.DataFrame({\"sim_price\": final_prices}).to_csv(out_dir / \"lumber_mc.csv\",\n",
    "                                                 index=False)\n",
    "\n",
    "(out_dir / \"lumber_mc_flag.txt\").write_text(str(int(up_prob > 0.5)))\n"
   ]
  },
  {
   "cell_type": "code",
   "execution_count": 8,
   "id": "47b39854-144b-4bbe-b590-89f3ed12a99c",
   "metadata": {},
   "outputs": [
    {
     "data": {
      "text/plain": [
       "<Figure size 640x480 with 0 Axes>"
      ]
     },
     "metadata": {},
     "output_type": "display_data"
    }
   ],
   "source": [
    "plt.savefig(\"lumber_mc_hist.png\", dpi=150, bbox_inches=\"tight\")\n"
   ]
  },
  {
   "cell_type": "code",
   "execution_count": null,
   "id": "7b53137d-321b-4eec-b1bb-b66634c54314",
   "metadata": {},
   "outputs": [],
   "source": []
  }
 ],
 "metadata": {
  "kernelspec": {
   "display_name": "Python [conda env:base] *",
   "language": "python",
   "name": "conda-base-py"
  },
  "language_info": {
   "codemirror_mode": {
    "name": "ipython",
    "version": 3
   },
   "file_extension": ".py",
   "mimetype": "text/x-python",
   "name": "python",
   "nbconvert_exporter": "python",
   "pygments_lexer": "ipython3",
   "version": "3.12.3"
  }
 },
 "nbformat": 4,
 "nbformat_minor": 5
}
